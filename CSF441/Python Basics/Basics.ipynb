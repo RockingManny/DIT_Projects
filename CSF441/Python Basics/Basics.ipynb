{
 "cells": [
  {
   "attachments": {},
   "cell_type": "markdown",
   "metadata": {},
   "source": [
    "# Built-in Data Types to store Collections of Data"
   ]
  },
  {
   "attachments": {},
   "cell_type": "markdown",
   "metadata": {},
   "source": [
    "<img src=\"https://media.geeksforgeeks.org/wp-content/uploads/20191023173512/Python-data-structure.jpg\" alt=\"Python Data-Types\" />"
   ]
  },
  {
   "attachments": {},
   "cell_type": "markdown",
   "metadata": {},
   "source": [
    "Collections in python are basically container data types, namely lists, sets, tuples, dictionary.<BR>\n",
    "They have different characteristics based on the declaration and the usage.<BR>\n",
    "<ul>\n",
    "    <li>A list is declared in square brackets, it is mutable, stores duplicate values and elements can be accessed using indexes.</li>\n",
    "    <li>A tuple is ordered and immutable in nature, although duplicate entries can be there inside a tuple.</li>\n",
    "    <li>A set is unordered and declared in square brackets. It is not indexed and does not have duplicate entries as well.</li>\n",
    "    <li>A dictionary has key value pairs and is mutable in nature. We use square brackets to declare a dictionary.</li>\n",
    "</ul>"
   ]
  },
  {
   "attachments": {},
   "cell_type": "markdown",
   "metadata": {},
   "source": [
    "<U><H1>SETS</H1></U>\n",
    "\n",
    "Sets are used to store multiple items in a single variable.<BR>\n",
    "Set items are :- \n",
    "- unordered, \n",
    "- unchangeable, \n",
    "- do not allow duplicate values.\n",
    "\n",
    "Sets are written with curly brackets."
   ]
  },
  {
   "cell_type": "code",
   "execution_count": 3,
   "metadata": {},
   "outputs": [
    {
     "name": "stdout",
     "output_type": "stream",
     "text": [
      "dataset ->  {1, 2, 3, 4}     <class 'set'>\n"
     ]
    }
   ],
   "source": [
    "dataset = {1,2,3,4}\n",
    "print(\"dataset -> \",dataset,\"   \",type(dataset))"
   ]
  },
  {
   "attachments": {},
   "cell_type": "markdown",
   "metadata": {},
   "source": [
    "<U><H1>Lists</H1></U>\n",
    "\n",
    "Lists are used to store multiple items in a single variable.<BR>\n",
    "List items are :-\n",
    "- ordered, \n",
    "- changeable, \n",
    "- allow duplicate values.\n",
    "\n",
    "List items are indexed, the first item has index [0], the second item has index [1] etc.<BR>\n",
    "Lists are written with square brackets."
   ]
  },
  {
   "cell_type": "code",
   "execution_count": 4,
   "metadata": {},
   "outputs": [
    {
     "name": "stdout",
     "output_type": "stream",
     "text": [
      "datalist ->  [1, 2, 3, 4]     <class 'list'>\n"
     ]
    }
   ],
   "source": [
    "datalist = [1,2,3,4]\n",
    "print(\"datalist -> \",datalist,\"   \",type(datalist))"
   ]
  },
  {
   "attachments": {},
   "cell_type": "markdown",
   "metadata": {},
   "source": [
    "<U><H1>TUPLES</H1></U>\n",
    "\n",
    "Tuples are used to store multiple items in a single variable.<BR>\n",
    "Tuple items are :-\n",
    "1. ordered, \n",
    "2. unchangeable, \n",
    "3. allow duplicate values.\n",
    "\n",
    "Tuples are written with round brackets."
   ]
  },
  {
   "cell_type": "code",
   "execution_count": 5,
   "metadata": {},
   "outputs": [
    {
     "name": "stdout",
     "output_type": "stream",
     "text": [
      "datatuple ->  (1, 'a', 3, 4)     <class 'tuple'>\n"
     ]
    }
   ],
   "source": [
    "datatuple = (1,\"a\",3,4)\n",
    "print(\"datatuple -> \",datatuple,\"   \",type(datatuple))"
   ]
  },
  {
   "attachments": {},
   "cell_type": "markdown",
   "metadata": {},
   "source": [
    "<U><H1>DICTIONARIES</H1></U>\n",
    "\n",
    "Dictionaries are used to store data values in key:value pairs.<BR>\n",
    "Tuple items are :-\n",
    "1. ordered, \n",
    "2. changeable, \n",
    "3. do not allow duplicate values.\n",
    "\n",
    "Dictionaries are written with curly brackets, and have keys and values."
   ]
  },
  {
   "cell_type": "code",
   "execution_count": 6,
   "metadata": {},
   "outputs": [
    {
     "name": "stdout",
     "output_type": "stream",
     "text": [
      "datadictionary ->  {1: 'One', 2: 'Two', 3: 'Three', 4: 'Four'}     <class 'dict'>\n"
     ]
    }
   ],
   "source": [
    "datadictionary = {1:\"One\", 2:\"Two\", 3:\"Three\", 4:\"Four\"}\n",
    "print(\"datadictionary -> \",datadictionary,\"   \",type(datadictionary))"
   ]
  },
  {
   "attachments": {},
   "cell_type": "markdown",
   "metadata": {},
   "source": [
    "# DATASET CREATION and MANIPULATION"
   ]
  },
  {
   "attachments": {},
   "cell_type": "markdown",
   "metadata": {},
   "source": [
    "First we import  numpy and pandas libraries"
   ]
  },
  {
   "cell_type": "code",
   "execution_count": 7,
   "metadata": {},
   "outputs": [],
   "source": [
    "import pandas as pd\n",
    "import numpy as np"
   ]
  },
  {
   "attachments": {},
   "cell_type": "markdown",
   "metadata": {},
   "source": [
    "viewing the pre-defined dictionary with indexing "
   ]
  },
  {
   "cell_type": "code",
   "execution_count": 11,
   "metadata": {},
   "outputs": [
    {
     "data": {
      "text/plain": [
       "1      One\n",
       "2      Two\n",
       "3    Three\n",
       "4     Four\n",
       "5      NaN\n",
       "6      NaN\n",
       "dtype: object"
      ]
     },
     "execution_count": 11,
     "metadata": {},
     "output_type": "execute_result"
    }
   ],
   "source": [
    "df = pd.Series(datadictionary, index = [1,2,3,4,5,6])\n",
    "df"
   ]
  },
  {
   "attachments": {},
   "cell_type": "markdown",
   "metadata": {},
   "source": [
    "# Student Data"
   ]
  },
  {
   "attachments": {},
   "cell_type": "markdown",
   "metadata": {},
   "source": [
    "#### Sno. | RollNo. | Name | Branch | Sem\n",
    "\n",
    "A synthetic dataset is created for performing the data manipulation tasks.<br>\n",
    "The dataset is a collection od student data with features :-\n",
    "<ul>\n",
    "    <li>S No.</li>\n",
    "    <li>Roll No.</li>\n",
    "    <li>Name</li>\n",
    "    <li>Branch</li>\n",
    "    <li>Sem</li>\n",
    "<ul>"
   ]
  },
  {
   "cell_type": "code",
   "execution_count": 12,
   "metadata": {},
   "outputs": [],
   "source": [
    "## Function to take data entries from the user\n",
    " \n",
    "def datacreate(dictionary):\n",
    "    \n",
    "    s_no = input(\"Enter S_No. : \")\n",
    "    roll_no = input(\"Enter Roll_No. : \")\n",
    "    name = input(\"Enter Name : \")\n",
    "    branch = input(\"Enter Branch : \")\n",
    "    sem = input(\"Enter Sem : \")\n",
    "    \n",
    "    dictionary[len(dictionary)] ={'S No.' : s_no,\n",
    "                                  'R No.' : roll_no,\n",
    "                                  'Name' : name,\n",
    "                                  'Branch' : branch,\n",
    "                                  'Sem' : sem}\n",
    "    \n",
    "    ch = input(\"Enter More? (Y/N) : \")\n",
    "    if ch == 'Y' :\n",
    "        dictionary = datacreate(dictionary)\n",
    "    return dictionary\n",
    "    "
   ]
  },
  {
   "cell_type": "code",
   "execution_count": 13,
   "metadata": {},
   "outputs": [],
   "source": [
    "## Dictionary creation and conversion to pandas dataframe\n",
    "\n",
    "dictionary={}\n",
    "dictionary=datacreate(dictionary)\n",
    "df = pd.DataFrame(dictionary).T"
   ]
  },
  {
   "cell_type": "code",
   "execution_count": 16,
   "metadata": {},
   "outputs": [
    {
     "name": "stdout",
     "output_type": "stream",
     "text": [
      "DataFrame is written to Excel File successfully.\n"
     ]
    }
   ],
   "source": [
    "## Exporting the aquired dataframe into an excel file\n",
    "\n",
    "file_name = 'StudentData.xlsx'\n",
    "df.to_excel(file_name)\n",
    "print('DataFrame is written to Excel File successfully.')"
   ]
  },
  {
   "attachments": {},
   "cell_type": "markdown",
   "metadata": {},
   "source": [
    "# Working on Saved Data"
   ]
  },
  {
   "attachments": {},
   "cell_type": "markdown",
   "metadata": {},
   "source": [
    "## Import \n",
    "Dataset is imported from the source using pandas.read_excel() function (for excel files)."
   ]
  },
  {
   "cell_type": "code",
   "execution_count": 80,
   "metadata": {},
   "outputs": [
    {
     "data": {
      "text/html": [
       "<div>\n",
       "<style scoped>\n",
       "    .dataframe tbody tr th:only-of-type {\n",
       "        vertical-align: middle;\n",
       "    }\n",
       "\n",
       "    .dataframe tbody tr th {\n",
       "        vertical-align: top;\n",
       "    }\n",
       "\n",
       "    .dataframe thead th {\n",
       "        text-align: right;\n",
       "    }\n",
       "</style>\n",
       "<table border=\"1\" class=\"dataframe\">\n",
       "  <thead>\n",
       "    <tr style=\"text-align: right;\">\n",
       "      <th></th>\n",
       "      <th>Unnamed: 0</th>\n",
       "      <th>S No.</th>\n",
       "      <th>R No.</th>\n",
       "      <th>Name</th>\n",
       "      <th>Branch</th>\n",
       "      <th>Sem</th>\n",
       "    </tr>\n",
       "  </thead>\n",
       "  <tbody>\n",
       "    <tr>\n",
       "      <th>0</th>\n",
       "      <td>0</td>\n",
       "      <td>1</td>\n",
       "      <td>1000015445</td>\n",
       "      <td>Manimit Haldar</td>\n",
       "      <td>B.Tech CSE</td>\n",
       "      <td>VI</td>\n",
       "    </tr>\n",
       "    <tr>\n",
       "      <th>1</th>\n",
       "      <td>1</td>\n",
       "      <td>2</td>\n",
       "      <td>1000015575</td>\n",
       "      <td>Tanya Rajpoot</td>\n",
       "      <td>B.A English (Hons.)</td>\n",
       "      <td>V</td>\n",
       "    </tr>\n",
       "    <tr>\n",
       "      <th>2</th>\n",
       "      <td>2</td>\n",
       "      <td>3</td>\n",
       "      <td>1000014215</td>\n",
       "      <td>Rishi Dwivedi</td>\n",
       "      <td>B.Tech CSE</td>\n",
       "      <td>VI</td>\n",
       "    </tr>\n",
       "    <tr>\n",
       "      <th>3</th>\n",
       "      <td>3</td>\n",
       "      <td>4</td>\n",
       "      <td>1000015577</td>\n",
       "      <td>Priyanka Garg</td>\n",
       "      <td>B.Sc Physics</td>\n",
       "      <td>III</td>\n",
       "    </tr>\n",
       "    <tr>\n",
       "      <th>4</th>\n",
       "      <td>4</td>\n",
       "      <td>5</td>\n",
       "      <td>1000015049</td>\n",
       "      <td>Raj Krishna</td>\n",
       "      <td>Ph.D Psychology</td>\n",
       "      <td>I</td>\n",
       "    </tr>\n",
       "    <tr>\n",
       "      <th>5</th>\n",
       "      <td>5</td>\n",
       "      <td>6</td>\n",
       "      <td>1000014484</td>\n",
       "      <td>Srijan Kunwar</td>\n",
       "      <td>M.Tech IT</td>\n",
       "      <td>II</td>\n",
       "    </tr>\n",
       "    <tr>\n",
       "      <th>6</th>\n",
       "      <td>6</td>\n",
       "      <td>7</td>\n",
       "      <td>1000015489</td>\n",
       "      <td>Shreya Umrao</td>\n",
       "      <td>B.Pharm</td>\n",
       "      <td>IV</td>\n",
       "    </tr>\n",
       "  </tbody>\n",
       "</table>\n",
       "</div>"
      ],
      "text/plain": [
       "   Unnamed: 0  S No.       R No.            Name               Branch  Sem\n",
       "0           0      1  1000015445  Manimit Haldar           B.Tech CSE   VI\n",
       "1           1      2  1000015575   Tanya Rajpoot  B.A English (Hons.)    V\n",
       "2           2      3  1000014215   Rishi Dwivedi           B.Tech CSE   VI\n",
       "3           3      4  1000015577   Priyanka Garg         B.Sc Physics  III\n",
       "4           4      5  1000015049     Raj Krishna      Ph.D Psychology    I\n",
       "5           5      6  1000014484   Srijan Kunwar            M.Tech IT   II\n",
       "6           6      7  1000015489    Shreya Umrao              B.Pharm   IV"
      ]
     },
     "execution_count": 80,
     "metadata": {},
     "output_type": "execute_result"
    }
   ],
   "source": [
    "## importing the dataset\n",
    "df=pd.read_excel(file_name)\n",
    "df"
   ]
  },
  {
   "attachments": {},
   "cell_type": "markdown",
   "metadata": {},
   "source": [
    "## Append\n",
    "Adding a new entry to the dataframe"
   ]
  },
  {
   "cell_type": "code",
   "execution_count": 81,
   "metadata": {},
   "outputs": [
    {
     "name": "stderr",
     "output_type": "stream",
     "text": [
      "C:\\Users\\manor\\AppData\\Local\\Temp\\ipykernel_2492\\2039625622.py:6: FutureWarning: The frame.append method is deprecated and will be removed from pandas in a future version. Use pandas.concat instead.\n",
      "  df=df.append(df1)\n"
     ]
    },
    {
     "data": {
      "text/html": [
       "<div>\n",
       "<style scoped>\n",
       "    .dataframe tbody tr th:only-of-type {\n",
       "        vertical-align: middle;\n",
       "    }\n",
       "\n",
       "    .dataframe tbody tr th {\n",
       "        vertical-align: top;\n",
       "    }\n",
       "\n",
       "    .dataframe thead th {\n",
       "        text-align: right;\n",
       "    }\n",
       "</style>\n",
       "<table border=\"1\" class=\"dataframe\">\n",
       "  <thead>\n",
       "    <tr style=\"text-align: right;\">\n",
       "      <th></th>\n",
       "      <th>Unnamed: 0</th>\n",
       "      <th>S No.</th>\n",
       "      <th>R No.</th>\n",
       "      <th>Name</th>\n",
       "      <th>Branch</th>\n",
       "      <th>Sem</th>\n",
       "    </tr>\n",
       "  </thead>\n",
       "  <tbody>\n",
       "    <tr>\n",
       "      <th>0</th>\n",
       "      <td>0.0</td>\n",
       "      <td>1</td>\n",
       "      <td>1000015445</td>\n",
       "      <td>Manimit Haldar</td>\n",
       "      <td>B.Tech CSE</td>\n",
       "      <td>VI</td>\n",
       "    </tr>\n",
       "    <tr>\n",
       "      <th>1</th>\n",
       "      <td>1.0</td>\n",
       "      <td>2</td>\n",
       "      <td>1000015575</td>\n",
       "      <td>Tanya Rajpoot</td>\n",
       "      <td>B.A English (Hons.)</td>\n",
       "      <td>V</td>\n",
       "    </tr>\n",
       "    <tr>\n",
       "      <th>2</th>\n",
       "      <td>2.0</td>\n",
       "      <td>3</td>\n",
       "      <td>1000014215</td>\n",
       "      <td>Rishi Dwivedi</td>\n",
       "      <td>B.Tech CSE</td>\n",
       "      <td>VI</td>\n",
       "    </tr>\n",
       "    <tr>\n",
       "      <th>3</th>\n",
       "      <td>3.0</td>\n",
       "      <td>4</td>\n",
       "      <td>1000015577</td>\n",
       "      <td>Priyanka Garg</td>\n",
       "      <td>B.Sc Physics</td>\n",
       "      <td>III</td>\n",
       "    </tr>\n",
       "    <tr>\n",
       "      <th>4</th>\n",
       "      <td>4.0</td>\n",
       "      <td>5</td>\n",
       "      <td>1000015049</td>\n",
       "      <td>Raj Krishna</td>\n",
       "      <td>Ph.D Psychology</td>\n",
       "      <td>I</td>\n",
       "    </tr>\n",
       "    <tr>\n",
       "      <th>5</th>\n",
       "      <td>5.0</td>\n",
       "      <td>6</td>\n",
       "      <td>1000014484</td>\n",
       "      <td>Srijan Kunwar</td>\n",
       "      <td>M.Tech IT</td>\n",
       "      <td>II</td>\n",
       "    </tr>\n",
       "    <tr>\n",
       "      <th>6</th>\n",
       "      <td>6.0</td>\n",
       "      <td>7</td>\n",
       "      <td>1000015489</td>\n",
       "      <td>Shreya Umrao</td>\n",
       "      <td>B.Pharm</td>\n",
       "      <td>IV</td>\n",
       "    </tr>\n",
       "    <tr>\n",
       "      <th>8</th>\n",
       "      <td>NaN</td>\n",
       "      <td>8</td>\n",
       "      <td>8</td>\n",
       "      <td>Test1</td>\n",
       "      <td>Branch1</td>\n",
       "      <td>Sem1</td>\n",
       "    </tr>\n",
       "    <tr>\n",
       "      <th>9</th>\n",
       "      <td>NaN</td>\n",
       "      <td>9</td>\n",
       "      <td>9</td>\n",
       "      <td>Test2</td>\n",
       "      <td>Branch2</td>\n",
       "      <td>Sem2</td>\n",
       "    </tr>\n",
       "  </tbody>\n",
       "</table>\n",
       "</div>"
      ],
      "text/plain": [
       "   Unnamed: 0  S No.       R No.            Name               Branch   Sem\n",
       "0         0.0      1  1000015445  Manimit Haldar           B.Tech CSE    VI\n",
       "1         1.0      2  1000015575   Tanya Rajpoot  B.A English (Hons.)     V\n",
       "2         2.0      3  1000014215   Rishi Dwivedi           B.Tech CSE    VI\n",
       "3         3.0      4  1000015577   Priyanka Garg         B.Sc Physics   III\n",
       "4         4.0      5  1000015049     Raj Krishna      Ph.D Psychology     I\n",
       "5         5.0      6  1000014484   Srijan Kunwar            M.Tech IT    II\n",
       "6         6.0      7  1000015489    Shreya Umrao              B.Pharm    IV\n",
       "8         NaN      8           8           Test1              Branch1  Sem1\n",
       "9         NaN      9           9           Test2              Branch2  Sem2"
      ]
     },
     "execution_count": 81,
     "metadata": {},
     "output_type": "execute_result"
    }
   ],
   "source": [
    "df1 = pd.DataFrame({'S No.' : [8,9],\n",
    "                    'R No.' : [8,9],\n",
    "                    'Name' : ['Test1','Test2'],\n",
    "                    'Branch' : ['Branch1','Branch2'],\n",
    "                    'Sem' : ['Sem1','Sem2']}, index=[8,9])\n",
    "df=df.append(df1)\n",
    "df"
   ]
  },
  {
   "attachments": {},
   "cell_type": "markdown",
   "metadata": {},
   "source": [
    "## Fill NAN\n",
    "Filling NA values with 0s "
   ]
  },
  {
   "cell_type": "code",
   "execution_count": 82,
   "metadata": {},
   "outputs": [
    {
     "data": {
      "text/html": [
       "<div>\n",
       "<style scoped>\n",
       "    .dataframe tbody tr th:only-of-type {\n",
       "        vertical-align: middle;\n",
       "    }\n",
       "\n",
       "    .dataframe tbody tr th {\n",
       "        vertical-align: top;\n",
       "    }\n",
       "\n",
       "    .dataframe thead th {\n",
       "        text-align: right;\n",
       "    }\n",
       "</style>\n",
       "<table border=\"1\" class=\"dataframe\">\n",
       "  <thead>\n",
       "    <tr style=\"text-align: right;\">\n",
       "      <th></th>\n",
       "      <th>Unnamed: 0</th>\n",
       "      <th>S No.</th>\n",
       "      <th>R No.</th>\n",
       "      <th>Name</th>\n",
       "      <th>Branch</th>\n",
       "      <th>Sem</th>\n",
       "    </tr>\n",
       "  </thead>\n",
       "  <tbody>\n",
       "    <tr>\n",
       "      <th>0</th>\n",
       "      <td>0.0</td>\n",
       "      <td>1</td>\n",
       "      <td>1000015445</td>\n",
       "      <td>Manimit Haldar</td>\n",
       "      <td>B.Tech CSE</td>\n",
       "      <td>VI</td>\n",
       "    </tr>\n",
       "    <tr>\n",
       "      <th>1</th>\n",
       "      <td>1.0</td>\n",
       "      <td>2</td>\n",
       "      <td>1000015575</td>\n",
       "      <td>Tanya Rajpoot</td>\n",
       "      <td>B.A English (Hons.)</td>\n",
       "      <td>V</td>\n",
       "    </tr>\n",
       "    <tr>\n",
       "      <th>2</th>\n",
       "      <td>2.0</td>\n",
       "      <td>3</td>\n",
       "      <td>1000014215</td>\n",
       "      <td>Rishi Dwivedi</td>\n",
       "      <td>B.Tech CSE</td>\n",
       "      <td>VI</td>\n",
       "    </tr>\n",
       "    <tr>\n",
       "      <th>3</th>\n",
       "      <td>3.0</td>\n",
       "      <td>4</td>\n",
       "      <td>1000015577</td>\n",
       "      <td>Priyanka Garg</td>\n",
       "      <td>B.Sc Physics</td>\n",
       "      <td>III</td>\n",
       "    </tr>\n",
       "    <tr>\n",
       "      <th>4</th>\n",
       "      <td>4.0</td>\n",
       "      <td>5</td>\n",
       "      <td>1000015049</td>\n",
       "      <td>Raj Krishna</td>\n",
       "      <td>Ph.D Psychology</td>\n",
       "      <td>I</td>\n",
       "    </tr>\n",
       "    <tr>\n",
       "      <th>5</th>\n",
       "      <td>5.0</td>\n",
       "      <td>6</td>\n",
       "      <td>1000014484</td>\n",
       "      <td>Srijan Kunwar</td>\n",
       "      <td>M.Tech IT</td>\n",
       "      <td>II</td>\n",
       "    </tr>\n",
       "    <tr>\n",
       "      <th>6</th>\n",
       "      <td>6.0</td>\n",
       "      <td>7</td>\n",
       "      <td>1000015489</td>\n",
       "      <td>Shreya Umrao</td>\n",
       "      <td>B.Pharm</td>\n",
       "      <td>IV</td>\n",
       "    </tr>\n",
       "    <tr>\n",
       "      <th>8</th>\n",
       "      <td>0.0</td>\n",
       "      <td>8</td>\n",
       "      <td>8</td>\n",
       "      <td>Test1</td>\n",
       "      <td>Branch1</td>\n",
       "      <td>Sem1</td>\n",
       "    </tr>\n",
       "    <tr>\n",
       "      <th>9</th>\n",
       "      <td>0.0</td>\n",
       "      <td>9</td>\n",
       "      <td>9</td>\n",
       "      <td>Test2</td>\n",
       "      <td>Branch2</td>\n",
       "      <td>Sem2</td>\n",
       "    </tr>\n",
       "  </tbody>\n",
       "</table>\n",
       "</div>"
      ],
      "text/plain": [
       "   Unnamed: 0  S No.       R No.            Name               Branch   Sem\n",
       "0         0.0      1  1000015445  Manimit Haldar           B.Tech CSE    VI\n",
       "1         1.0      2  1000015575   Tanya Rajpoot  B.A English (Hons.)     V\n",
       "2         2.0      3  1000014215   Rishi Dwivedi           B.Tech CSE    VI\n",
       "3         3.0      4  1000015577   Priyanka Garg         B.Sc Physics   III\n",
       "4         4.0      5  1000015049     Raj Krishna      Ph.D Psychology     I\n",
       "5         5.0      6  1000014484   Srijan Kunwar            M.Tech IT    II\n",
       "6         6.0      7  1000015489    Shreya Umrao              B.Pharm    IV\n",
       "8         0.0      8           8           Test1              Branch1  Sem1\n",
       "9         0.0      9           9           Test2              Branch2  Sem2"
      ]
     },
     "execution_count": 82,
     "metadata": {},
     "output_type": "execute_result"
    }
   ],
   "source": [
    "df=df.fillna(0)\n",
    "df"
   ]
  },
  {
   "attachments": {},
   "cell_type": "markdown",
   "metadata": {},
   "source": [
    "## Drop by row\n",
    "Dropping unwanted entries from the data"
   ]
  },
  {
   "cell_type": "code",
   "execution_count": 83,
   "metadata": {},
   "outputs": [
    {
     "data": {
      "text/html": [
       "<div>\n",
       "<style scoped>\n",
       "    .dataframe tbody tr th:only-of-type {\n",
       "        vertical-align: middle;\n",
       "    }\n",
       "\n",
       "    .dataframe tbody tr th {\n",
       "        vertical-align: top;\n",
       "    }\n",
       "\n",
       "    .dataframe thead th {\n",
       "        text-align: right;\n",
       "    }\n",
       "</style>\n",
       "<table border=\"1\" class=\"dataframe\">\n",
       "  <thead>\n",
       "    <tr style=\"text-align: right;\">\n",
       "      <th></th>\n",
       "      <th>index</th>\n",
       "      <th>Unnamed: 0</th>\n",
       "      <th>S No.</th>\n",
       "      <th>R No.</th>\n",
       "      <th>Name</th>\n",
       "      <th>Branch</th>\n",
       "      <th>Sem</th>\n",
       "    </tr>\n",
       "  </thead>\n",
       "  <tbody>\n",
       "    <tr>\n",
       "      <th>0</th>\n",
       "      <td>0</td>\n",
       "      <td>0.0</td>\n",
       "      <td>1</td>\n",
       "      <td>1000015445</td>\n",
       "      <td>Manimit Haldar</td>\n",
       "      <td>B.Tech CSE</td>\n",
       "      <td>VI</td>\n",
       "    </tr>\n",
       "    <tr>\n",
       "      <th>1</th>\n",
       "      <td>1</td>\n",
       "      <td>1.0</td>\n",
       "      <td>2</td>\n",
       "      <td>1000015575</td>\n",
       "      <td>Tanya Rajpoot</td>\n",
       "      <td>B.A English (Hons.)</td>\n",
       "      <td>V</td>\n",
       "    </tr>\n",
       "    <tr>\n",
       "      <th>2</th>\n",
       "      <td>2</td>\n",
       "      <td>2.0</td>\n",
       "      <td>3</td>\n",
       "      <td>1000014215</td>\n",
       "      <td>Rishi Dwivedi</td>\n",
       "      <td>B.Tech CSE</td>\n",
       "      <td>VI</td>\n",
       "    </tr>\n",
       "    <tr>\n",
       "      <th>3</th>\n",
       "      <td>3</td>\n",
       "      <td>3.0</td>\n",
       "      <td>4</td>\n",
       "      <td>1000015577</td>\n",
       "      <td>Priyanka Garg</td>\n",
       "      <td>B.Sc Physics</td>\n",
       "      <td>III</td>\n",
       "    </tr>\n",
       "    <tr>\n",
       "      <th>4</th>\n",
       "      <td>4</td>\n",
       "      <td>4.0</td>\n",
       "      <td>5</td>\n",
       "      <td>1000015049</td>\n",
       "      <td>Raj Krishna</td>\n",
       "      <td>Ph.D Psychology</td>\n",
       "      <td>I</td>\n",
       "    </tr>\n",
       "    <tr>\n",
       "      <th>5</th>\n",
       "      <td>5</td>\n",
       "      <td>5.0</td>\n",
       "      <td>6</td>\n",
       "      <td>1000014484</td>\n",
       "      <td>Srijan Kunwar</td>\n",
       "      <td>M.Tech IT</td>\n",
       "      <td>II</td>\n",
       "    </tr>\n",
       "    <tr>\n",
       "      <th>6</th>\n",
       "      <td>6</td>\n",
       "      <td>6.0</td>\n",
       "      <td>7</td>\n",
       "      <td>1000015489</td>\n",
       "      <td>Shreya Umrao</td>\n",
       "      <td>B.Pharm</td>\n",
       "      <td>IV</td>\n",
       "    </tr>\n",
       "  </tbody>\n",
       "</table>\n",
       "</div>"
      ],
      "text/plain": [
       "   index  Unnamed: 0  S No.       R No.            Name               Branch  \\\n",
       "0      0         0.0      1  1000015445  Manimit Haldar           B.Tech CSE   \n",
       "1      1         1.0      2  1000015575   Tanya Rajpoot  B.A English (Hons.)   \n",
       "2      2         2.0      3  1000014215   Rishi Dwivedi           B.Tech CSE   \n",
       "3      3         3.0      4  1000015577   Priyanka Garg         B.Sc Physics   \n",
       "4      4         4.0      5  1000015049     Raj Krishna      Ph.D Psychology   \n",
       "5      5         5.0      6  1000014484   Srijan Kunwar            M.Tech IT   \n",
       "6      6         6.0      7  1000015489    Shreya Umrao              B.Pharm   \n",
       "\n",
       "   Sem  \n",
       "0   VI  \n",
       "1    V  \n",
       "2   VI  \n",
       "3  III  \n",
       "4    I  \n",
       "5   II  \n",
       "6   IV  "
      ]
     },
     "execution_count": 83,
     "metadata": {},
     "output_type": "execute_result"
    }
   ],
   "source": [
    "df=df.drop(df.index[[8,7]], inplace=False).reset_index()\n",
    "df"
   ]
  },
  {
   "attachments": {},
   "cell_type": "markdown",
   "metadata": {},
   "source": [
    "## Drop by column\n",
    "Dropping unwanted features from the data"
   ]
  },
  {
   "cell_type": "code",
   "execution_count": 84,
   "metadata": {},
   "outputs": [
    {
     "data": {
      "text/html": [
       "<div>\n",
       "<style scoped>\n",
       "    .dataframe tbody tr th:only-of-type {\n",
       "        vertical-align: middle;\n",
       "    }\n",
       "\n",
       "    .dataframe tbody tr th {\n",
       "        vertical-align: top;\n",
       "    }\n",
       "\n",
       "    .dataframe thead th {\n",
       "        text-align: right;\n",
       "    }\n",
       "</style>\n",
       "<table border=\"1\" class=\"dataframe\">\n",
       "  <thead>\n",
       "    <tr style=\"text-align: right;\">\n",
       "      <th></th>\n",
       "      <th>S No.</th>\n",
       "      <th>R No.</th>\n",
       "      <th>Name</th>\n",
       "      <th>Branch</th>\n",
       "      <th>Sem</th>\n",
       "    </tr>\n",
       "  </thead>\n",
       "  <tbody>\n",
       "    <tr>\n",
       "      <th>0</th>\n",
       "      <td>1</td>\n",
       "      <td>1000015445</td>\n",
       "      <td>Manimit Haldar</td>\n",
       "      <td>B.Tech CSE</td>\n",
       "      <td>VI</td>\n",
       "    </tr>\n",
       "    <tr>\n",
       "      <th>1</th>\n",
       "      <td>2</td>\n",
       "      <td>1000015575</td>\n",
       "      <td>Tanya Rajpoot</td>\n",
       "      <td>B.A English (Hons.)</td>\n",
       "      <td>V</td>\n",
       "    </tr>\n",
       "    <tr>\n",
       "      <th>2</th>\n",
       "      <td>3</td>\n",
       "      <td>1000014215</td>\n",
       "      <td>Rishi Dwivedi</td>\n",
       "      <td>B.Tech CSE</td>\n",
       "      <td>VI</td>\n",
       "    </tr>\n",
       "    <tr>\n",
       "      <th>3</th>\n",
       "      <td>4</td>\n",
       "      <td>1000015577</td>\n",
       "      <td>Priyanka Garg</td>\n",
       "      <td>B.Sc Physics</td>\n",
       "      <td>III</td>\n",
       "    </tr>\n",
       "    <tr>\n",
       "      <th>4</th>\n",
       "      <td>5</td>\n",
       "      <td>1000015049</td>\n",
       "      <td>Raj Krishna</td>\n",
       "      <td>Ph.D Psychology</td>\n",
       "      <td>I</td>\n",
       "    </tr>\n",
       "    <tr>\n",
       "      <th>5</th>\n",
       "      <td>6</td>\n",
       "      <td>1000014484</td>\n",
       "      <td>Srijan Kunwar</td>\n",
       "      <td>M.Tech IT</td>\n",
       "      <td>II</td>\n",
       "    </tr>\n",
       "    <tr>\n",
       "      <th>6</th>\n",
       "      <td>7</td>\n",
       "      <td>1000015489</td>\n",
       "      <td>Shreya Umrao</td>\n",
       "      <td>B.Pharm</td>\n",
       "      <td>IV</td>\n",
       "    </tr>\n",
       "  </tbody>\n",
       "</table>\n",
       "</div>"
      ],
      "text/plain": [
       "   S No.       R No.            Name               Branch  Sem\n",
       "0      1  1000015445  Manimit Haldar           B.Tech CSE   VI\n",
       "1      2  1000015575   Tanya Rajpoot  B.A English (Hons.)    V\n",
       "2      3  1000014215   Rishi Dwivedi           B.Tech CSE   VI\n",
       "3      4  1000015577   Priyanka Garg         B.Sc Physics  III\n",
       "4      5  1000015049     Raj Krishna      Ph.D Psychology    I\n",
       "5      6  1000014484   Srijan Kunwar            M.Tech IT   II\n",
       "6      7  1000015489    Shreya Umrao              B.Pharm   IV"
      ]
     },
     "execution_count": 84,
     "metadata": {},
     "output_type": "execute_result"
    }
   ],
   "source": [
    "df=df.drop([\"Unnamed: 0\",\"index\"], axis=1)\n",
    "df"
   ]
  },
  {
   "attachments": {},
   "cell_type": "markdown",
   "metadata": {},
   "source": [
    "## Projection using \"loc\"\n",
    "The loc attribute is used to project only selected entries(rows) from the dataframe.<br>\n",
    "Purely label-location based indexer for selection by label."
   ]
  },
  {
   "cell_type": "code",
   "execution_count": 98,
   "metadata": {},
   "outputs": [
    {
     "data": {
      "text/html": [
       "<div>\n",
       "<style scoped>\n",
       "    .dataframe tbody tr th:only-of-type {\n",
       "        vertical-align: middle;\n",
       "    }\n",
       "\n",
       "    .dataframe tbody tr th {\n",
       "        vertical-align: top;\n",
       "    }\n",
       "\n",
       "    .dataframe thead th {\n",
       "        text-align: right;\n",
       "    }\n",
       "</style>\n",
       "<table border=\"1\" class=\"dataframe\">\n",
       "  <thead>\n",
       "    <tr style=\"text-align: right;\">\n",
       "      <th></th>\n",
       "      <th>S No.</th>\n",
       "      <th>R No.</th>\n",
       "      <th>Name</th>\n",
       "      <th>Branch</th>\n",
       "      <th>Sem</th>\n",
       "    </tr>\n",
       "  </thead>\n",
       "  <tbody>\n",
       "    <tr>\n",
       "      <th>0</th>\n",
       "      <td>1</td>\n",
       "      <td>1000015445</td>\n",
       "      <td>Manimit Haldar</td>\n",
       "      <td>B.Tech CSE</td>\n",
       "      <td>VI</td>\n",
       "    </tr>\n",
       "    <tr>\n",
       "      <th>2</th>\n",
       "      <td>3</td>\n",
       "      <td>1000014215</td>\n",
       "      <td>Rishi Dwivedi</td>\n",
       "      <td>B.Tech CSE</td>\n",
       "      <td>VI</td>\n",
       "    </tr>\n",
       "    <tr>\n",
       "      <th>4</th>\n",
       "      <td>5</td>\n",
       "      <td>1000015049</td>\n",
       "      <td>Raj Krishna</td>\n",
       "      <td>Ph.D Psychology</td>\n",
       "      <td>I</td>\n",
       "    </tr>\n",
       "    <tr>\n",
       "      <th>5</th>\n",
       "      <td>6</td>\n",
       "      <td>1000014484</td>\n",
       "      <td>Srijan Kunwar</td>\n",
       "      <td>M.Tech IT</td>\n",
       "      <td>II</td>\n",
       "    </tr>\n",
       "  </tbody>\n",
       "</table>\n",
       "</div>"
      ],
      "text/plain": [
       "   S No.       R No.            Name           Branch Sem\n",
       "0      1  1000015445  Manimit Haldar       B.Tech CSE  VI\n",
       "2      3  1000014215   Rishi Dwivedi       B.Tech CSE  VI\n",
       "4      5  1000015049     Raj Krishna  Ph.D Psychology   I\n",
       "5      6  1000014484   Srijan Kunwar        M.Tech IT  II"
      ]
     },
     "execution_count": 98,
     "metadata": {},
     "output_type": "execute_result"
    }
   ],
   "source": [
    "df.loc[[0,2,4,5]]"
   ]
  },
  {
   "attachments": {},
   "cell_type": "markdown",
   "metadata": {},
   "source": [
    "## Projection using \"iloc\"\n",
    "The loc attribute is used to project only selected entries(rows) from the dataframe.<br>\n",
    "Purely integer-location based indexing for selection by position."
   ]
  },
  {
   "cell_type": "code",
   "execution_count": 99,
   "metadata": {},
   "outputs": [
    {
     "data": {
      "text/html": [
       "<div>\n",
       "<style scoped>\n",
       "    .dataframe tbody tr th:only-of-type {\n",
       "        vertical-align: middle;\n",
       "    }\n",
       "\n",
       "    .dataframe tbody tr th {\n",
       "        vertical-align: top;\n",
       "    }\n",
       "\n",
       "    .dataframe thead th {\n",
       "        text-align: right;\n",
       "    }\n",
       "</style>\n",
       "<table border=\"1\" class=\"dataframe\">\n",
       "  <thead>\n",
       "    <tr style=\"text-align: right;\">\n",
       "      <th></th>\n",
       "      <th>S No.</th>\n",
       "      <th>R No.</th>\n",
       "      <th>Name</th>\n",
       "      <th>Branch</th>\n",
       "      <th>Sem</th>\n",
       "    </tr>\n",
       "  </thead>\n",
       "  <tbody>\n",
       "    <tr>\n",
       "      <th>3</th>\n",
       "      <td>4</td>\n",
       "      <td>1000015577</td>\n",
       "      <td>Priyanka Garg</td>\n",
       "      <td>B.Sc Physics</td>\n",
       "      <td>III</td>\n",
       "    </tr>\n",
       "    <tr>\n",
       "      <th>4</th>\n",
       "      <td>5</td>\n",
       "      <td>1000015049</td>\n",
       "      <td>Raj Krishna</td>\n",
       "      <td>Ph.D Psychology</td>\n",
       "      <td>I</td>\n",
       "    </tr>\n",
       "    <tr>\n",
       "      <th>5</th>\n",
       "      <td>6</td>\n",
       "      <td>1000014484</td>\n",
       "      <td>Srijan Kunwar</td>\n",
       "      <td>M.Tech IT</td>\n",
       "      <td>II</td>\n",
       "    </tr>\n",
       "  </tbody>\n",
       "</table>\n",
       "</div>"
      ],
      "text/plain": [
       "   S No.       R No.           Name           Branch  Sem\n",
       "3      4  1000015577  Priyanka Garg     B.Sc Physics  III\n",
       "4      5  1000015049    Raj Krishna  Ph.D Psychology    I\n",
       "5      6  1000014484  Srijan Kunwar        M.Tech IT   II"
      ]
     },
     "execution_count": 99,
     "metadata": {},
     "output_type": "execute_result"
    }
   ],
   "source": [
    "df.iloc[3:6]"
   ]
  },
  {
   "attachments": {},
   "cell_type": "markdown",
   "metadata": {},
   "source": [
    "## Searching \n",
    "Searching for an entry in dataframe."
   ]
  },
  {
   "cell_type": "code",
   "execution_count": 105,
   "metadata": {},
   "outputs": [
    {
     "data": {
      "text/html": [
       "<div>\n",
       "<style scoped>\n",
       "    .dataframe tbody tr th:only-of-type {\n",
       "        vertical-align: middle;\n",
       "    }\n",
       "\n",
       "    .dataframe tbody tr th {\n",
       "        vertical-align: top;\n",
       "    }\n",
       "\n",
       "    .dataframe thead th {\n",
       "        text-align: right;\n",
       "    }\n",
       "</style>\n",
       "<table border=\"1\" class=\"dataframe\">\n",
       "  <thead>\n",
       "    <tr style=\"text-align: right;\">\n",
       "      <th></th>\n",
       "      <th>S No.</th>\n",
       "      <th>R No.</th>\n",
       "      <th>Name</th>\n",
       "      <th>Branch</th>\n",
       "      <th>Sem</th>\n",
       "    </tr>\n",
       "  </thead>\n",
       "  <tbody>\n",
       "    <tr>\n",
       "      <th>0</th>\n",
       "      <td>1</td>\n",
       "      <td>1000015445</td>\n",
       "      <td>Manimit Haldar</td>\n",
       "      <td>B.Tech CSE</td>\n",
       "      <td>VI</td>\n",
       "    </tr>\n",
       "    <tr>\n",
       "      <th>2</th>\n",
       "      <td>3</td>\n",
       "      <td>1000014215</td>\n",
       "      <td>Rishi Dwivedi</td>\n",
       "      <td>B.Tech CSE</td>\n",
       "      <td>VI</td>\n",
       "    </tr>\n",
       "  </tbody>\n",
       "</table>\n",
       "</div>"
      ],
      "text/plain": [
       "   S No.       R No.            Name      Branch Sem\n",
       "0      1  1000015445  Manimit Haldar  B.Tech CSE  VI\n",
       "2      3  1000014215   Rishi Dwivedi  B.Tech CSE  VI"
      ]
     },
     "execution_count": 105,
     "metadata": {},
     "output_type": "execute_result"
    }
   ],
   "source": [
    "df[(df['Sem'] == 'VI')]"
   ]
  },
  {
   "attachments": {},
   "cell_type": "markdown",
   "metadata": {},
   "source": [
    "Search with dropped NaN values."
   ]
  },
  {
   "cell_type": "code",
   "execution_count": 109,
   "metadata": {},
   "outputs": [
    {
     "data": {
      "text/html": [
       "<div>\n",
       "<style scoped>\n",
       "    .dataframe tbody tr th:only-of-type {\n",
       "        vertical-align: middle;\n",
       "    }\n",
       "\n",
       "    .dataframe tbody tr th {\n",
       "        vertical-align: top;\n",
       "    }\n",
       "\n",
       "    .dataframe thead th {\n",
       "        text-align: right;\n",
       "    }\n",
       "</style>\n",
       "<table border=\"1\" class=\"dataframe\">\n",
       "  <thead>\n",
       "    <tr style=\"text-align: right;\">\n",
       "      <th></th>\n",
       "      <th>Name</th>\n",
       "      <th>Sem</th>\n",
       "    </tr>\n",
       "  </thead>\n",
       "  <tbody>\n",
       "    <tr>\n",
       "      <th>0</th>\n",
       "      <td>Manimit Haldar</td>\n",
       "      <td>VI</td>\n",
       "    </tr>\n",
       "    <tr>\n",
       "      <th>2</th>\n",
       "      <td>Rishi Dwivedi</td>\n",
       "      <td>VI</td>\n",
       "    </tr>\n",
       "  </tbody>\n",
       "</table>\n",
       "</div>"
      ],
      "text/plain": [
       "             Name Sem\n",
       "0  Manimit Haldar  VI\n",
       "2   Rishi Dwivedi  VI"
      ]
     },
     "execution_count": 109,
     "metadata": {},
     "output_type": "execute_result"
    }
   ],
   "source": [
    "df[['Name','Sem']].where(df['Branch']=='B.Tech CSE').dropna()"
   ]
  },
  {
   "cell_type": "code",
   "execution_count": null,
   "metadata": {},
   "outputs": [],
   "source": []
  }
 ],
 "metadata": {
  "kernelspec": {
   "display_name": "Python 3",
   "language": "python",
   "name": "python3"
  },
  "language_info": {
   "codemirror_mode": {
    "name": "ipython",
    "version": 3
   },
   "file_extension": ".py",
   "mimetype": "text/x-python",
   "name": "python",
   "nbconvert_exporter": "python",
   "pygments_lexer": "ipython3",
   "version": "3.10.6"
  },
  "orig_nbformat": 4,
  "vscode": {
   "interpreter": {
    "hash": "26de051ba29f2982a8de78e945f0abaf191376122a1563185a90213a26c5da77"
   }
  }
 },
 "nbformat": 4,
 "nbformat_minor": 2
}
