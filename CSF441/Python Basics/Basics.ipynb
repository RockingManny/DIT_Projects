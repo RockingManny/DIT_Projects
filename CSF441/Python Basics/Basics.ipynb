{
 "cells": [
  {
   "attachments": {},
   "cell_type": "markdown",
   "metadata": {},
   "source": [
    "# Built-in Data Types to store Collections of Data"
   ]
  },
  {
   "attachments": {},
   "cell_type": "markdown",
   "metadata": {},
   "source": [
    "<img src=\"https://media.geeksforgeeks.org/wp-content/uploads/20191023173512/Python-data-structure.jpg\" alt=\"Python Data-Types\" />"
   ]
  },
  {
   "attachments": {},
   "cell_type": "markdown",
   "metadata": {},
   "source": [
    "Collections in python are basically container data types, namely lists, sets, tuples, dictionary.<BR>\n",
    "They have different characteristics based on the declaration and the usage.<BR>\n",
    "<ul>\n",
    "    <li>A list is declared in square brackets, it is mutable, stores duplicate values and elements can be accessed using indexes.</li>\n",
    "    <li>A tuple is ordered and immutable in nature, although duplicate entries can be there inside a tuple.</li>\n",
    "    <li>A set is unordered and declared in square brackets. It is not indexed and does not have duplicate entries as well.</li>\n",
    "    <li>A dictionary has key value pairs and is mutable in nature. We use square brackets to declare a dictionary.</li>\n",
    "</ul>"
   ]
  },
  {
   "attachments": {},
   "cell_type": "markdown",
   "metadata": {},
   "source": [
    "<U><H1>SETS</H1></U>\n",
    "\n",
    "Sets are used to store multiple items in a single variable.<BR>\n",
    "Set items are :- \n",
    "- unordered, \n",
    "- unchangeable, \n",
    "- do not allow duplicate values.\n",
    "\n",
    "Sets are written with curly brackets."
   ]
  },
  {
   "cell_type": "code",
   "execution_count": 1,
   "metadata": {},
   "outputs": [
    {
     "name": "stdout",
     "output_type": "stream",
     "text": [
      "dataset ->  {1, 2, 3, 4}     <class 'set'>\n"
     ]
    }
   ],
   "source": [
    "dataset = {1,2,3,4}\n",
    "print(\"dataset -> \",dataset,\"   \",type(dataset))"
   ]
  },
  {
   "attachments": {},
   "cell_type": "markdown",
   "metadata": {},
   "source": [
    "<U><H1>Lists</H1></U>\n",
    "\n",
    "Lists are used to store multiple items in a single variable.<BR>\n",
    "List items are :-\n",
    "- ordered, \n",
    "- changeable, \n",
    "- allow duplicate values.\n",
    "\n",
    "List items are indexed, the first item has index [0], the second item has index [1] etc.<BR>\n",
    "Lists are written with square brackets."
   ]
  },
  {
   "cell_type": "code",
   "execution_count": 75,
   "metadata": {},
   "outputs": [
    {
     "name": "stdout",
     "output_type": "stream",
     "text": [
      "datalist ->  [1, 2, 3, 4]     <class 'list'>\n"
     ]
    }
   ],
   "source": [
    "datalist = [1,2,3,4]\n",
    "print(\"datalist -> \",datalist,\"   \",type(datalist))"
   ]
  },
  {
   "attachments": {},
   "cell_type": "markdown",
   "metadata": {},
   "source": [
    "<U><H1>TUPLES</H1></U>\n",
    "\n",
    "Tuples are used to store multiple items in a single variable.<BR>\n",
    "Tuple items are :-\n",
    "1. ordered, \n",
    "2. unchangeable, \n",
    "3. allow duplicate values.\n",
    "\n",
    "Tuples are written with round brackets."
   ]
  },
  {
   "cell_type": "code",
   "execution_count": 76,
   "metadata": {},
   "outputs": [
    {
     "name": "stdout",
     "output_type": "stream",
     "text": [
      "datatuple ->  (1, 'a', 3, 4)     <class 'tuple'>\n"
     ]
    }
   ],
   "source": [
    "datatuple = (1,\"a\",3,4)\n",
    "print(\"datatuple -> \",datatuple,\"   \",type(datatuple))"
   ]
  },
  {
   "attachments": {},
   "cell_type": "markdown",
   "metadata": {},
   "source": [
    "<U><H1>DICTIONARIES</H1></U>\n",
    "\n",
    "Dictionaries are used to store data values in key:value pairs.<BR>\n",
    "Tuple items are :-\n",
    "1. ordered, \n",
    "2. changeable, \n",
    "3. do not allow duplicate values.\n",
    "\n",
    "Dictionaries are written with curly brackets, and have keys and values."
   ]
  },
  {
   "cell_type": "code",
   "execution_count": 77,
   "metadata": {},
   "outputs": [
    {
     "name": "stdout",
     "output_type": "stream",
     "text": [
      "datadictionary ->  {1: 'One', 2: 'Two', 3: 'Three', 4: 'Four'}     <class 'dict'>\n"
     ]
    }
   ],
   "source": [
    "datadictionary = {1:\"One\", 2:\"Two\", 3:\"Three\", 4:\"Four\"}\n",
    "print(\"datadictionary -> \",datadictionary,\"   \",type(datadictionary))"
   ]
  },
  {
   "attachments": {},
   "cell_type": "markdown",
   "metadata": {},
   "source": [
    "# DATASET CREATION"
   ]
  },
  {
   "cell_type": "code",
   "execution_count": 78,
   "metadata": {},
   "outputs": [],
   "source": [
    "import pandas as pd\n",
    "import numpy as np"
   ]
  },
  {
   "cell_type": "code",
   "execution_count": 80,
   "metadata": {},
   "outputs": [],
   "source": [
    "df = pd.Series(datadictionary, index = [1,2,3,4,5,6])"
   ]
  },
  {
   "cell_type": "code",
   "execution_count": 81,
   "metadata": {},
   "outputs": [
    {
     "data": {
      "text/plain": [
       "1      One\n",
       "2      Two\n",
       "3    Three\n",
       "4     Four\n",
       "5      NaN\n",
       "6      NaN\n",
       "dtype: object"
      ]
     },
     "execution_count": 81,
     "metadata": {},
     "output_type": "execute_result"
    }
   ],
   "source": [
    "df"
   ]
  },
  {
   "attachments": {},
   "cell_type": "markdown",
   "metadata": {},
   "source": [
    "# Student Data"
   ]
  },
  {
   "attachments": {},
   "cell_type": "markdown",
   "metadata": {},
   "source": [
    "#### Sno. | RollNo. | Name | Branch | Sem"
   ]
  },
  {
   "cell_type": "code",
   "execution_count": 82,
   "metadata": {},
   "outputs": [],
   "source": [
    "def datacreate(dictionary):\n",
    "    \n",
    "    s_no = input(\"Enter S_No. : \")\n",
    "    roll_no = input(\"Enter Roll_No. : \")\n",
    "    name = input(\"Enter Name : \")\n",
    "    branch = input(\"Enter Branch : \")\n",
    "    sem = input(\"Enter Sem : \")\n",
    "    \n",
    "    dictionary[len(dictionary)] ={'S No.' : s_no,\n",
    "                                  'R No.' : roll_no,\n",
    "                                  'Name' : name,\n",
    "                                  'Branch' : branch,\n",
    "                                  'Sem' : sem}\n",
    "    \n",
    "    ch = input(\"Enter More? (Y/N) : \")\n",
    "    if ch == 'Y' :\n",
    "        dictionary = datacreate(dictionary)\n",
    "    return dictionary\n",
    "    "
   ]
  },
  {
   "cell_type": "code",
   "execution_count": 83,
   "metadata": {},
   "outputs": [],
   "source": [
    "dictionary={}\n",
    "dictionary=datacreate(dictionary)\n",
    "df = pd.DataFrame(dictionary)"
   ]
  },
  {
   "cell_type": "code",
   "execution_count": 84,
   "metadata": {},
   "outputs": [],
   "source": [
    "dataframe=df.T"
   ]
  },
  {
   "cell_type": "code",
   "execution_count": 86,
   "metadata": {},
   "outputs": [
    {
     "data": {
      "text/html": [
       "<div>\n",
       "<style scoped>\n",
       "    .dataframe tbody tr th:only-of-type {\n",
       "        vertical-align: middle;\n",
       "    }\n",
       "\n",
       "    .dataframe tbody tr th {\n",
       "        vertical-align: top;\n",
       "    }\n",
       "\n",
       "    .dataframe thead th {\n",
       "        text-align: right;\n",
       "    }\n",
       "</style>\n",
       "<table border=\"1\" class=\"dataframe\">\n",
       "  <thead>\n",
       "    <tr style=\"text-align: right;\">\n",
       "      <th></th>\n",
       "      <th>S No.</th>\n",
       "      <th>R No.</th>\n",
       "      <th>Name</th>\n",
       "      <th>Branch</th>\n",
       "      <th>Sem</th>\n",
       "    </tr>\n",
       "  </thead>\n",
       "  <tbody>\n",
       "    <tr>\n",
       "      <th>0</th>\n",
       "      <td>1</td>\n",
       "      <td>1000015480</td>\n",
       "      <td>Divyanshi Sahu</td>\n",
       "      <td>B.Tech</td>\n",
       "      <td>VI</td>\n",
       "    </tr>\n",
       "    <tr>\n",
       "      <th>1</th>\n",
       "      <td>2</td>\n",
       "      <td>1000015445</td>\n",
       "      <td>Manimit Haldar</td>\n",
       "      <td>B.Tech</td>\n",
       "      <td>VI</td>\n",
       "    </tr>\n",
       "    <tr>\n",
       "      <th>2</th>\n",
       "      <td>3</td>\n",
       "      <td>1000015620</td>\n",
       "      <td>Aditya Bhatkoti</td>\n",
       "      <td>B.Sc</td>\n",
       "      <td>5</td>\n",
       "    </tr>\n",
       "    <tr>\n",
       "      <th>3</th>\n",
       "      <td>4</td>\n",
       "      <td>1000015613</td>\n",
       "      <td>Sandeep Chauhan</td>\n",
       "      <td>B.Ed</td>\n",
       "      <td>1</td>\n",
       "    </tr>\n",
       "    <tr>\n",
       "      <th>4</th>\n",
       "      <td>5</td>\n",
       "      <td>1000019855</td>\n",
       "      <td>Tony Stark</td>\n",
       "      <td>PhD</td>\n",
       "      <td>2</td>\n",
       "    </tr>\n",
       "    <tr>\n",
       "      <th>5</th>\n",
       "      <td>6</td>\n",
       "      <td>1000015796</td>\n",
       "      <td>Captain America</td>\n",
       "      <td>NCC</td>\n",
       "      <td>4</td>\n",
       "    </tr>\n",
       "  </tbody>\n",
       "</table>\n",
       "</div>"
      ],
      "text/plain": [
       "  S No.       R No.             Name  Branch Sem\n",
       "0     1  1000015480   Divyanshi Sahu  B.Tech  VI\n",
       "1     2  1000015445   Manimit Haldar  B.Tech  VI\n",
       "2     3  1000015620  Aditya Bhatkoti    B.Sc   5\n",
       "3     4  1000015613  Sandeep Chauhan    B.Ed   1\n",
       "4     5  1000019855       Tony Stark     PhD   2\n",
       "5     6  1000015796  Captain America     NCC   4"
      ]
     },
     "execution_count": 86,
     "metadata": {},
     "output_type": "execute_result"
    }
   ],
   "source": [
    "dataframe"
   ]
  },
  {
   "cell_type": "code",
   "execution_count": 99,
   "metadata": {},
   "outputs": [
    {
     "name": "stdout",
     "output_type": "stream",
     "text": [
      "DataFrame is written to Excel File successfully.\n"
     ]
    }
   ],
   "source": [
    "file_name = 'StudentData.xlsx'\n",
    "dataframe.to_excel(file_name)\n",
    "print('DataFrame is written to Excel File successfully.')"
   ]
  },
  {
   "attachments": {},
   "cell_type": "markdown",
   "metadata": {},
   "source": [
    "# Working on BackUp Data"
   ]
  },
  {
   "cell_type": "code",
   "execution_count": 138,
   "metadata": {},
   "outputs": [
    {
     "data": {
      "text/html": [
       "<div>\n",
       "<style scoped>\n",
       "    .dataframe tbody tr th:only-of-type {\n",
       "        vertical-align: middle;\n",
       "    }\n",
       "\n",
       "    .dataframe tbody tr th {\n",
       "        vertical-align: top;\n",
       "    }\n",
       "\n",
       "    .dataframe thead th {\n",
       "        text-align: right;\n",
       "    }\n",
       "</style>\n",
       "<table border=\"1\" class=\"dataframe\">\n",
       "  <thead>\n",
       "    <tr style=\"text-align: right;\">\n",
       "      <th></th>\n",
       "      <th>Unnamed: 0</th>\n",
       "      <th>S No.</th>\n",
       "      <th>R No.</th>\n",
       "      <th>Name</th>\n",
       "      <th>Branch</th>\n",
       "      <th>Sem</th>\n",
       "    </tr>\n",
       "  </thead>\n",
       "  <tbody>\n",
       "    <tr>\n",
       "      <th>0</th>\n",
       "      <td>0</td>\n",
       "      <td>1</td>\n",
       "      <td>1000015480</td>\n",
       "      <td>Divyanshi Sahu</td>\n",
       "      <td>B.Tech</td>\n",
       "      <td>VI</td>\n",
       "    </tr>\n",
       "    <tr>\n",
       "      <th>1</th>\n",
       "      <td>1</td>\n",
       "      <td>2</td>\n",
       "      <td>1000015445</td>\n",
       "      <td>Manimit Haldar</td>\n",
       "      <td>B.Tech</td>\n",
       "      <td>VI</td>\n",
       "    </tr>\n",
       "    <tr>\n",
       "      <th>2</th>\n",
       "      <td>2</td>\n",
       "      <td>3</td>\n",
       "      <td>1000015620</td>\n",
       "      <td>Aditya Bhatkoti</td>\n",
       "      <td>B.Sc</td>\n",
       "      <td>VI</td>\n",
       "    </tr>\n",
       "    <tr>\n",
       "      <th>3</th>\n",
       "      <td>3</td>\n",
       "      <td>4</td>\n",
       "      <td>1000015613</td>\n",
       "      <td>Sandeep Chauhan</td>\n",
       "      <td>B.Ed</td>\n",
       "      <td>I</td>\n",
       "    </tr>\n",
       "    <tr>\n",
       "      <th>4</th>\n",
       "      <td>4</td>\n",
       "      <td>5</td>\n",
       "      <td>1000019855</td>\n",
       "      <td>Tony Stark</td>\n",
       "      <td>PhD</td>\n",
       "      <td>II</td>\n",
       "    </tr>\n",
       "    <tr>\n",
       "      <th>5</th>\n",
       "      <td>5</td>\n",
       "      <td>6</td>\n",
       "      <td>1000015796</td>\n",
       "      <td>Captain America</td>\n",
       "      <td>NCC</td>\n",
       "      <td>IV</td>\n",
       "    </tr>\n",
       "  </tbody>\n",
       "</table>\n",
       "</div>"
      ],
      "text/plain": [
       "   Unnamed: 0  S No.       R No.             Name  Branch Sem\n",
       "0           0      1  1000015480   Divyanshi Sahu  B.Tech  VI\n",
       "1           1      2  1000015445   Manimit Haldar  B.Tech  VI\n",
       "2           2      3  1000015620  Aditya Bhatkoti    B.Sc  VI\n",
       "3           3      4  1000015613  Sandeep Chauhan    B.Ed   I\n",
       "4           4      5  1000019855       Tony Stark     PhD  II\n",
       "5           5      6  1000015796  Captain America     NCC  IV"
      ]
     },
     "execution_count": 138,
     "metadata": {},
     "output_type": "execute_result"
    }
   ],
   "source": [
    "df=pd.read_excel(file_name)\n",
    "df"
   ]
  },
  {
   "cell_type": "code",
   "execution_count": 139,
   "metadata": {},
   "outputs": [
    {
     "data": {
      "text/html": [
       "<div>\n",
       "<style scoped>\n",
       "    .dataframe tbody tr th:only-of-type {\n",
       "        vertical-align: middle;\n",
       "    }\n",
       "\n",
       "    .dataframe tbody tr th {\n",
       "        vertical-align: top;\n",
       "    }\n",
       "\n",
       "    .dataframe thead th {\n",
       "        text-align: right;\n",
       "    }\n",
       "</style>\n",
       "<table border=\"1\" class=\"dataframe\">\n",
       "  <thead>\n",
       "    <tr style=\"text-align: right;\">\n",
       "      <th></th>\n",
       "      <th>index</th>\n",
       "      <th>Unnamed: 0</th>\n",
       "      <th>S No.</th>\n",
       "      <th>R No.</th>\n",
       "      <th>Name</th>\n",
       "      <th>Branch</th>\n",
       "      <th>Sem</th>\n",
       "    </tr>\n",
       "  </thead>\n",
       "  <tbody>\n",
       "    <tr>\n",
       "      <th>0</th>\n",
       "      <td>0</td>\n",
       "      <td>0</td>\n",
       "      <td>1</td>\n",
       "      <td>1000015480</td>\n",
       "      <td>Divyanshi Sahu</td>\n",
       "      <td>B.Tech</td>\n",
       "      <td>VI</td>\n",
       "    </tr>\n",
       "    <tr>\n",
       "      <th>1</th>\n",
       "      <td>1</td>\n",
       "      <td>1</td>\n",
       "      <td>2</td>\n",
       "      <td>1000015445</td>\n",
       "      <td>Manimit Haldar</td>\n",
       "      <td>B.Tech</td>\n",
       "      <td>VI</td>\n",
       "    </tr>\n",
       "    <tr>\n",
       "      <th>2</th>\n",
       "      <td>3</td>\n",
       "      <td>3</td>\n",
       "      <td>4</td>\n",
       "      <td>1000015613</td>\n",
       "      <td>Sandeep Chauhan</td>\n",
       "      <td>B.Ed</td>\n",
       "      <td>I</td>\n",
       "    </tr>\n",
       "    <tr>\n",
       "      <th>3</th>\n",
       "      <td>4</td>\n",
       "      <td>4</td>\n",
       "      <td>5</td>\n",
       "      <td>1000019855</td>\n",
       "      <td>Tony Stark</td>\n",
       "      <td>PhD</td>\n",
       "      <td>II</td>\n",
       "    </tr>\n",
       "    <tr>\n",
       "      <th>4</th>\n",
       "      <td>5</td>\n",
       "      <td>5</td>\n",
       "      <td>6</td>\n",
       "      <td>1000015796</td>\n",
       "      <td>Captain America</td>\n",
       "      <td>NCC</td>\n",
       "      <td>IV</td>\n",
       "    </tr>\n",
       "  </tbody>\n",
       "</table>\n",
       "</div>"
      ],
      "text/plain": [
       "   index  Unnamed: 0  S No.       R No.             Name  Branch Sem\n",
       "0      0           0      1  1000015480   Divyanshi Sahu  B.Tech  VI\n",
       "1      1           1      2  1000015445   Manimit Haldar  B.Tech  VI\n",
       "2      3           3      4  1000015613  Sandeep Chauhan    B.Ed   I\n",
       "3      4           4      5  1000019855       Tony Stark     PhD  II\n",
       "4      5           5      6  1000015796  Captain America     NCC  IV"
      ]
     },
     "execution_count": 139,
     "metadata": {},
     "output_type": "execute_result"
    }
   ],
   "source": [
    "df=df.drop(df.index[2], inplace=False)\n",
    "df=df.reset_index()\n",
    "df"
   ]
  },
  {
   "cell_type": "code",
   "execution_count": 140,
   "metadata": {},
   "outputs": [
    {
     "data": {
      "text/html": [
       "<div>\n",
       "<style scoped>\n",
       "    .dataframe tbody tr th:only-of-type {\n",
       "        vertical-align: middle;\n",
       "    }\n",
       "\n",
       "    .dataframe tbody tr th {\n",
       "        vertical-align: top;\n",
       "    }\n",
       "\n",
       "    .dataframe thead th {\n",
       "        text-align: right;\n",
       "    }\n",
       "</style>\n",
       "<table border=\"1\" class=\"dataframe\">\n",
       "  <thead>\n",
       "    <tr style=\"text-align: right;\">\n",
       "      <th></th>\n",
       "      <th>S No.</th>\n",
       "      <th>R No.</th>\n",
       "      <th>Name</th>\n",
       "      <th>Branch</th>\n",
       "      <th>Sem</th>\n",
       "    </tr>\n",
       "  </thead>\n",
       "  <tbody>\n",
       "    <tr>\n",
       "      <th>0</th>\n",
       "      <td>1</td>\n",
       "      <td>1000015480</td>\n",
       "      <td>Divyanshi Sahu</td>\n",
       "      <td>B.Tech</td>\n",
       "      <td>VI</td>\n",
       "    </tr>\n",
       "    <tr>\n",
       "      <th>1</th>\n",
       "      <td>2</td>\n",
       "      <td>1000015445</td>\n",
       "      <td>Manimit Haldar</td>\n",
       "      <td>B.Tech</td>\n",
       "      <td>VI</td>\n",
       "    </tr>\n",
       "    <tr>\n",
       "      <th>2</th>\n",
       "      <td>4</td>\n",
       "      <td>1000015613</td>\n",
       "      <td>Sandeep Chauhan</td>\n",
       "      <td>B.Ed</td>\n",
       "      <td>I</td>\n",
       "    </tr>\n",
       "    <tr>\n",
       "      <th>3</th>\n",
       "      <td>5</td>\n",
       "      <td>1000019855</td>\n",
       "      <td>Tony Stark</td>\n",
       "      <td>PhD</td>\n",
       "      <td>II</td>\n",
       "    </tr>\n",
       "    <tr>\n",
       "      <th>4</th>\n",
       "      <td>6</td>\n",
       "      <td>1000015796</td>\n",
       "      <td>Captain America</td>\n",
       "      <td>NCC</td>\n",
       "      <td>IV</td>\n",
       "    </tr>\n",
       "  </tbody>\n",
       "</table>\n",
       "</div>"
      ],
      "text/plain": [
       "   S No.       R No.             Name  Branch Sem\n",
       "0      1  1000015480   Divyanshi Sahu  B.Tech  VI\n",
       "1      2  1000015445   Manimit Haldar  B.Tech  VI\n",
       "2      4  1000015613  Sandeep Chauhan    B.Ed   I\n",
       "3      5  1000019855       Tony Stark     PhD  II\n",
       "4      6  1000015796  Captain America     NCC  IV"
      ]
     },
     "execution_count": 140,
     "metadata": {},
     "output_type": "execute_result"
    }
   ],
   "source": [
    "df=df.drop(\"Unnamed: 0\", axis=1)\n",
    "df=df.drop(\"index\", axis=1)\n",
    "df"
   ]
  },
  {
   "cell_type": "code",
   "execution_count": null,
   "metadata": {},
   "outputs": [],
   "source": []
  },
  {
   "cell_type": "code",
   "execution_count": null,
   "metadata": {},
   "outputs": [],
   "source": []
  }
 ],
 "metadata": {
  "kernelspec": {
   "display_name": "Python 3",
   "language": "python",
   "name": "python3"
  },
  "language_info": {
   "codemirror_mode": {
    "name": "ipython",
    "version": 3
   },
   "file_extension": ".py",
   "mimetype": "text/x-python",
   "name": "python",
   "nbconvert_exporter": "python",
   "pygments_lexer": "ipython3",
   "version": "3.10.6"
  },
  "orig_nbformat": 4,
  "vscode": {
   "interpreter": {
    "hash": "26de051ba29f2982a8de78e945f0abaf191376122a1563185a90213a26c5da77"
   }
  }
 },
 "nbformat": 4,
 "nbformat_minor": 2
}
